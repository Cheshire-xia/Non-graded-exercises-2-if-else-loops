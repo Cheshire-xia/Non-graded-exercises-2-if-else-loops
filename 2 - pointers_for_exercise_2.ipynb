{
 "cells": [
  {
   "cell_type": "markdown",
   "metadata": {},
   "source": [
    "enumerate() method: "
   ]
  },
  {
   "cell_type": "code",
   "execution_count": null,
   "metadata": {},
   "outputs": [],
   "source": [
    "str1 = \"Howl's Moving Castle\"\n",
    "# Using enumerate to get both the index and the character in the string  \n",
    "for index, char in enumerate(str1):  \n",
    "    print(index, char)"
   ]
  },
  {
   "cell_type": "markdown",
   "metadata": {},
   "source": [
    "join() method:"
   ]
  },
  {
   "cell_type": "code",
   "execution_count": null,
   "metadata": {},
   "outputs": [],
   "source": [
    "some_list = ['Baa', 'baa', 'black', 'sheep']\n",
    "# Using join to create a single string from the list elements, separated by spaces  \n",
    "sentence = ' '.join(some_list)  \n",
    "print(sentence)  # Output: Baa baa black sheep\n",
    "\n"
   ]
  },
  {
   "cell_type": "markdown",
   "metadata": {},
   "source": [
    "random() method:"
   ]
  },
  {
   "cell_type": "code",
   "execution_count": 12,
   "metadata": {},
   "outputs": [
    {
     "name": "stdout",
     "output_type": "stream",
     "text": [
      "sheep\n"
     ]
    }
   ],
   "source": [
    "import random\n",
    "\n",
    "some_list = ['Baa', 'baa', 'black', 'sheep']\n",
    "# Randomly selecting an element from the list  \n",
    "random_element = random.choice(some_list)  \n",
    "print(random_element)  # This could be 'Baa', 'baa', 'black', or 'sheep'  \n",
    "  \n",
    "# If you want to specifically check if the selected element is 'sheep'  \n",
    "if random_element == 'sheep':  \n",
    "    print(\"Randomly selected sheep!\")  \n",
    "else:  \n",
    "    print(f\"Randomly selected {random_element}.\")"
   ]
  }
 ],
 "metadata": {
  "kernelspec": {
   "display_name": "Python 3",
   "language": "python",
   "name": "python3"
  },
  "language_info": {
   "codemirror_mode": {
    "name": "ipython",
    "version": 3
   },
   "file_extension": ".py",
   "mimetype": "text/x-python",
   "name": "python",
   "nbconvert_exporter": "python",
   "pygments_lexer": "ipython3",
   "version": "3.11.5"
  }
 },
 "nbformat": 4,
 "nbformat_minor": 2
}
