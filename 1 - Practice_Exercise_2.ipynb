{
 "cells": [
  {
   "cell_type": "markdown",
   "metadata": {},
   "source": [
    "1. Ask user to enter a string and check that it is made up only alphabets:"
   ]
  },
  {
   "cell_type": "code",
   "execution_count": null,
   "metadata": {},
   "outputs": [],
   "source": [
    "# Ask user to enter a string  \n",
    "user_input = input(\"Please enter a string: \")  \n",
    "  \n",
    "# Check if the string is made up only of alphabets  \n",
    "is_alphabet_only = user_input.isalpha()  \n",
    "  \n",
    "# Display the result  \n",
    "if is_alphabet_only:  \n",
    "    print(\"The string is made up only of alphabets.\")  \n",
    "else:  \n",
    "    print(\"The string contains non-alphabet characters.\")\n"
   ]
  },
  {
   "cell_type": "markdown",
   "metadata": {},
   "source": [
    "2. Now, make sure that the string is made up of both alphabets and numbers:\n",
    "\n",
    "TRY using isalnum() function and then entering only alhpabets in the string and see what happens."
   ]
  },
  {
   "cell_type": "code",
   "execution_count": null,
   "metadata": {},
   "outputs": [],
   "source": [
    "# Ask user to enter a string  \n",
    "user_input = input(\"Please enter a string: \")  \n",
    "  \n",
    "# Initialize a flag to keep track of whether the string is made up only of alphabets  \n",
    "is_alphabet_only = True  \n",
    "  \n",
    "# Iterate through each character in the string  \n",
    "for char in user_input:  \n",
    "    # Check if the character is not an alphabet  \n",
    "    if not char.isalpha():  \n",
    "        # If found, set the flag to False and break the loop  \n",
    "        is_alphabet_only = False  \n",
    "        break  \n",
    "  \n",
    "# Display the result  \n",
    "if is_alphabet_only:  \n",
    "    print(\"The string is made up only of alphabets.\")  \n",
    "else:  \n",
    "    print(\"The string contains non-alphabet characters.\")"
   ]
  },
  {
   "cell_type": "markdown",
   "metadata": {},
   "source": [
    "3. Now, make sure that the string is made up of both alphabets and at least one number:\n"
   ]
  },
  {
   "cell_type": "code",
   "execution_count": null,
   "metadata": {},
   "outputs": [],
   "source": [
    "enter a string  \n",
    "user_input = input(\"Please enter a string containing both alphabets and numbers: \")  \n",
    "  \n",
    "# Check if the string is alphanumeric  \n",
    "is_alphanumeric = user_input.isalnum()  \n",
    "  \n",
    "# Check if the string contains at least one alphabet and one number  \n",
    "has_alphabet = any(char.isalpha() for char in user_input)  \n",
    "has_number = any(char.isdigit() for char in user_input)  \n",
    "  \n",
    "# Check if the string is alphanumeric and contains both alphabets and numbers  \n",
    "if is_alphanumeric and has_alphabet and has_number:  \n",
    "    print(\"The string contains both alphabets and numbers.\")  \n",
    "elif is_alphanumeric and not (has_alphabet and has_number):  \n",
    "    print(\"The string is alphanumeric but does not contain both alphabets and numbers.\")  \n",
    "else:  \n",
    "    print(\"The string contains non-alphanumeric characters.\")  \n",
    "  \n",
    "# As an additional test, if you enter only alphabets, see what happens  \n",
    "# Note: The script above will correctly identify that it's alphanumeric but doesn't have numbers.\n"
   ]
  },
  {
   "cell_type": "markdown",
   "metadata": {},
   "source": [
    "4. Now, make sure that the string is made up of both alphabets, at least one number, and at least one special character:"
   ]
  },
  {
   "cell_type": "code",
   "execution_count": null,
   "metadata": {},
   "outputs": [],
   "source": [
    "# Ask user to enter a string  \n",
    "user_input = input(\"Please enter a string containing both alphabets and at least one number: \")  \n",
    "  \n",
    "# Check if the string contains at least one alphabet  \n",
    "has_alphabet = any(char.isalpha() for char in user_input)  \n",
    "  \n",
    "# Check if the string contains at least one number  \n",
    "has_number = any(char.isdigit() for char in user_input)  \n",
    "  \n",
    "# Check if both conditions are met  \n",
    "if has_alphabet and has_number:  \n",
    "    print(\"The string contains both alphabets and at least one number.\")  \n",
    "else:  \n",
    "    print(\"The string does not meet the requirements.\")  \n",
    "  \n",
    "# Additional note:  \n",
    "# If you also want to ensure that the string contains only alphanumeric characters  \n",
    "# (i.e., no spaces, punctuation, etc.), you can add another check:  \n",
    "is_alphanumeric_only = user_input.isalnum()  \n",
    "  \n",
    "# Combine the checks  \n",
    "if has_alphabet and has_number and is_alphanumeric_only:  \n",
    "    print(\"The string contains both alphabets and at least one number, and is only alphanumeric.\")  \n",
    "elif has_alphabet and has_number:  \n",
    "    print(\"The string contains both alphabets and at least one number, but also contains non-alphanumeric characters.\")  \n",
    "else:  \n",
    "    print(\"The string does not meet the requirements.\")"
   ]
  },
  {
   "cell_type": "markdown",
   "metadata": {},
   "source": [
    "5. Now, modify the above code so that if the user enters an invalid string, the program should ask the user to enter another string again, and keep asking until a valid string has been entered."
   ]
  },
  {
   "cell_type": "code",
   "execution_count": null,
   "metadata": {},
   "outputs": [],
   "source": [
    "import string  \n",
    "  \n",
    "# Define a string of special characters for simplicity (you can adjust this as needed)  \n",
    "special_characters = string.punctuation  \n",
    "  \n",
    "# Ask user to enter a string  \n",
    "user_input = input(\"Please enter a string containing both alphabets, at least one number, and at least one special character: \")  \n",
    "  \n",
    "# Check if the string contains at least one alphabet  \n",
    "has_alphabet = any(char.isalpha() for char in user_input)  \n",
    "  \n",
    "# Check if the string contains at least one number  \n",
    "has_number = any(char.isdigit() for char in user_input)  \n",
    "  \n",
    "# Check if the string contains at least one special character  \n",
    "has_special_char = any(char in special_characters for char in user_input)  \n",
    "  \n",
    "# Check if all conditions are met  \n",
    "if has_alphabet and has_number and has_special_char:  \n",
    "    print(\"The string contains both alphabets, at least one number, and at least one special character.\")  \n",
    "else:  \n",
    "    print(\"The string does not meet the requirements.\")"
   ]
  }
 ],
 "metadata": {
  "kernelspec": {
   "display_name": "Python 3",
   "language": "python",
   "name": "python3"
  },
  "language_info": {
   "codemirror_mode": {
    "name": "ipython",
    "version": 3
   },
   "file_extension": ".py",
   "mimetype": "text/x-python",
   "name": "python",
   "nbconvert_exporter": "python",
   "pygments_lexer": "ipython3",
   "version": "3.11.5"
  }
 },
 "nbformat": 4,
 "nbformat_minor": 2
}
